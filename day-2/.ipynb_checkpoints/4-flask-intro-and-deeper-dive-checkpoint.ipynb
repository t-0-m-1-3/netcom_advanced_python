{
 "cells": [
  {
   "cell_type": "markdown",
   "metadata": {
    "slideshow": {
     "slide_type": "slide"
    }
   },
   "source": [
    "## Flask – Overview\n",
    "---\n",
    "### What is a Web Framework\n",
    "---\n",
    "* Web Application Framework or simply Web Framework represents a collection of libraries and modules that enables a web application developer to write applications without having to bother about low-level details such as protocols, thread management etc.\n",
    "\n",
    "### What is Flask?\n",
    "----\n",
    "\n",
    "* Flask is a web application framework written in Python. \n",
    "* It is developed by Armin Ronacher, who leads an international group of Python enthusiasts named Pocco. \n",
    "* Flask is based on the Werkzeug WSGI toolkit and Jinja2 template engine. Both are Pocco projects"
   ]
  },
  {
   "cell_type": "markdown",
   "metadata": {
    "slideshow": {
     "slide_type": "subslide"
    }
   },
   "source": [
    "### WSGI\n",
    "----\n",
    "* Web Server Gateway Interface (WSGI) has been adopted as a standard for Python web application development. WSGI is a specification for a universal interface between the web server and the web applications.\n",
    "\n",
    "### Werkzeug\n",
    "---\n",
    "* It is a WSGI toolkit, which implements requests, response objects, and other utility functions. This enables building a web framework on top of it. The Flask framework uses Werkzeug as one of its bases.\n",
    "\n"
   ]
  },
  {
   "cell_type": "markdown",
   "metadata": {
    "slideshow": {
     "slide_type": "subslide"
    }
   },
   "source": [
    "### Jinja2\n",
    "----\n",
    "* Jinja2 is a popular templating engine for Python. A web templating system combines a template with a certain data source to render dynamic web pages.\n",
    "\n",
    "* Flask is often referred to as a micro framework. It aims to keep the core of an application simple yet extensible. \n",
    "* Flask does not have built-in abstraction layer for database handling, nor does it have form a validation support. \n",
    "    * Instead, Flask supports the extensions to add such functionality to the application."
   ]
  },
  {
   "cell_type": "markdown",
   "metadata": {
    "slideshow": {
     "slide_type": "slide"
    }
   },
   "source": [
    "## Environment Setup\n",
    "----\n",
    "* Python 2.6 or higher is usually required for installation of Flask. \n",
    "    * Although Flask and its dependencies work well with Python 3 (Python 3.3 onwards), many Flask extensions do not support it properly. \n",
    "    \n",
    "#### Install virtualenv for development environment\n",
    "----\n",
    "`virtualenv` is a virtual Python environment builder. It helps a user to create multiple Python environments side-by-side. \n",
    "\n",
    "`pip install virtualenv`\n",
    "\n",
    "* Once installed, new virtual environment is created in a folder.\n",
    "```bash\n",
    "mkdir newproj\n",
    "cd newproj\n",
    "virtualenv venv\n",
    "```\n",
    "* To activate corresponding environment\n",
    "\n",
    "`venv/bin/activate`\n",
    "\n",
    "* Install Flask with\n",
    "\n",
    "`pip install Flask`\n",
    "\n",
    "#### We're going to use `pipenv` for this"
   ]
  },
  {
   "cell_type": "markdown",
   "metadata": {
    "slideshow": {
     "slide_type": "slide"
    }
   },
   "source": [
    "### Writing the Application\n",
    "----\n",
    "`hello.py`\n",
    "```python\n",
    "from flask import Flask\n",
    "app = Flask(__name__)\n",
    "\n",
    "@app.route('/')\n",
    "def hello_world():\n",
    "   return 'Hello World’\n",
    "\n",
    "if __name__ == '__main__':\n",
    "   app.run()\n",
    "```\n",
    "\n",
    "* Importing `flask` module in the project is mandatory.\n",
    "* An object of Flask class is our WSGI application.\n",
    "\n",
    "* Flask constructor takes the name of current module (`__name__`) as argument\n",
    "\n",
    "\n"
   ]
  },
  {
   "cell_type": "markdown",
   "metadata": {
    "slideshow": {
     "slide_type": "subslide"
    }
   },
   "source": [
    "* The `route()` function of the Flask class is a decorator, which tells the application which URL should call the associated function.\n",
    "\n",
    "`app.route(rule, options)`\n",
    "\n",
    "  * The `rule` parameter represents URL binding with the function.\n",
    "\n",
    "  * The `options` is a list of parameters to be forwarded to the underlying Rule object.\n",
    "\n",
    "* `/` URL is bound with `hello_world()` function."
   ]
  },
  {
   "cell_type": "markdown",
   "metadata": {
    "slideshow": {
     "slide_type": "subslide"
    }
   },
   "source": [
    "* the `run()` method of Flask class runs the application on the local development server.\n",
    "\n",
    "```python\n",
    "app.run(host, port, debug, options)\n",
    "```\n",
    "\n",
    "\n",
    "\n",
    "|Sr.No. |\tParameters & Description|\n",
    "| ------------- |:-------------:|\n",
    "|host| Hostname to listen on. Defaults to 127.0.0.1 (localhost). Set to ‘0.0.0.0’ to have server available externally |\n",
    "|port| Defaults to 5000|\n",
    "|debug| Defaults to false. If set to true, provides a debug information |\n",
    "|options|To be forwarded to underlying Werkzeug server.|"
   ]
  },
  {
   "cell_type": "markdown",
   "metadata": {
    "slideshow": {
     "slide_type": "slide"
    }
   },
   "source": [
    "## Security Warning: Debug mode\n",
    "\n",
    "* A Flask application is started by calling the `run()` method. \n",
    "    * However, while the application is under development, it should be restarted manually for each change in the code. \n",
    "    * To avoid this inconvenience, enable `debug` support. \n",
    "    * The server will then reload itself if the code changes. It will also provide a useful debugger to track the errors if any, in the application.\n",
    "\n",
    "* Enabled by setting the debug property of the application object to `True` before running or passing the debug parameter to the `run()` method.\n",
    "```python\n",
    "app.debug = True\n",
    "app.run()\n",
    "app.run(debug = True)\n",
    "```"
   ]
  },
  {
   "cell_type": "markdown",
   "metadata": {
    "slideshow": {
     "slide_type": "subslide"
    }
   },
   "source": [
    "### Routing\n",
    "----\n",
    "* Modern web frameworks use the routing technique to help a user remember application URLs. \n",
    "* It is useful to access the desired page directly without having to navigate from the home page.\n",
    "* The `route()` decorator in Flask is used to bind URLs to functions\n",
    "```python\n",
    "@app.route('/hello')\n",
    "def hello_world():\n",
    "    return 'hello world'\n",
    "```\n",
    "\n",
    "* URL `/hello` rule is bound to the `hello_world()` function. \n",
    "    * If a user visits `http://localhost:5000/hello` URL, the output of the `hello_world()` function will be rendered in the browser.\n"
   ]
  },
  {
   "cell_type": "markdown",
   "metadata": {
    "slideshow": {
     "slide_type": "subslide"
    }
   },
   "source": [
    "* The `add_url_rule()` function of an application object is also available to bind a URL with a function as in the above example, `route()` is used.\n",
    "\n",
    "* A decorator’s purpose is also served by the following representation −\n",
    "```python\n",
    "def hello_world():\n",
    "   return ‘hello world’\n",
    "app.add_url_rule(‘/’, ‘hello’, hello_world)\n",
    "```"
   ]
  },
  {
   "cell_type": "markdown",
   "metadata": {
    "slideshow": {
     "slide_type": "slide"
    }
   },
   "source": [
    "### Variable Rules\n",
    "----\n",
    "* It is possible to build a URL dynamically, by adding variable parts to the rule parameter. \n",
    "* This variable part is marked as `<variable-name>`. \n",
    "    * It is passed as a keyword argument to the function with which the rule is associated.\n",
    "\n",
    "* the rule parameter of `route()` decorator contains `<name>` variable part attached to URL `/hello`. \n",
    "    * `http://localhost:5000/hello/advancedPython` is entered as a URL in the browser, `advancedPython` will be supplied to `hello()` function as argument.\n",
    "    \n",
    "```python\n",
    "from flask import Flask\n",
    "app = Flask(__name__)\n",
    "\n",
    "@app.route('/hello/<name>')\n",
    "def hello_name(name):\n",
    "   return 'Hello %s!' % name\n",
    "\n",
    "if __name__ == '__main__':\n",
    "   app.run(debug = True)\n",
    "```\n"
   ]
  },
  {
   "cell_type": "markdown",
   "metadata": {
    "slideshow": {
     "slide_type": "subslide"
    }
   },
   "source": [
    "* rules can be constructed using the following converters \n",
    "* In addition to the default string variable part\n",
    "\n",
    "|Sr.No. |Converters & Description|\n",
    "| ------------- |:-------------:|\n",
    "|int| accepts integer|\n",
    "|float|For floating point value|\n",
    "|path|accepts slashes used as directory separator character|\n"
   ]
  },
  {
   "cell_type": "markdown",
   "metadata": {
    "slideshow": {
     "slide_type": "subslide"
    }
   },
   "source": [
    "```python\n",
    "from flask import Flask\n",
    "app = Flask(__name__)\n",
    "\n",
    "@app.route('/blog/<int:postID>')\n",
    "def show_blog(postID):\n",
    "   return 'Blog Number %d' % postID\n",
    "\n",
    "@app.route('/rev/<float:revNo>')\n",
    "def revision(revNo):\n",
    "   return 'Revision Number %f' % revNo\n",
    "\n",
    "if __name__ == '__main__':\n",
    "   app.run()\n",
    "```\n",
    "* Run the above code from Python Shell. Visit the URL `http://localhost:5000/blog/11`\n",
    "\n",
    "    * The given number is used as argument to the `show_blog()` function. \n",
    "\n",
    "* Enter this URL in the browser − `http://localhost:5000/rev/1.1`\n",
    "\n",
    "    * The `revision()` function takes up the floating point number as argument. \n",
    "    \n",
    "* The URL rules of Flask are based on **Werkzeug**’s routing module. \n",
    "* This ensures that the URLs formed are unique and based on precedents laid down by Apache.\n"
   ]
  },
  {
   "cell_type": "markdown",
   "metadata": {
    "slideshow": {
     "slide_type": "subslide"
    }
   },
   "source": [
    "* Consider the rules defined in the following script \n",
    "\n",
    "```python\n",
    "from flask import Flask\n",
    "app = Flask(__name__)\n",
    "\n",
    "@app.route('/flask')\n",
    "def hello_flask():\n",
    "   return 'Hello Flask'\n",
    "\n",
    "@app.route('/python/')\n",
    "def hello_python():\n",
    "   return 'Hello Python'\n",
    "\n",
    "if __name__ == '__main__':\n",
    "   app.run()\n",
    "```\n",
    "\n",
    "* Both the rules appear similar but in the second rule, trailing slash (`/`) is used.  As a result, it becomes a canonical URL. \n",
    "* Using `/python` or `/python/` returns the same output.\n",
    "    * However, in case of the first rule, /flask/ URL results in 404 Not Found page."
   ]
  },
  {
   "cell_type": "markdown",
   "metadata": {
    "slideshow": {
     "slide_type": "slide"
    }
   },
   "source": [
    "### URL Binding\n",
    "----\n",
    "* The `url_for()` function is very useful for dynamically building a URL for a specific function. \n",
    "    * The function accepts the name of a function as first argument, and one or more keyword arguments, each corresponding to the variable part of URL."
   ]
  },
  {
   "cell_type": "markdown",
   "metadata": {
    "slideshow": {
     "slide_type": "subslide"
    }
   },
   "source": [
    "```python\n",
    "from flask import Flask, redirect, url_for\n",
    "app = Flask(__name__)\n",
    "\n",
    "@app.route('/admin')\n",
    "def hello_admin():\n",
    "   return 'Hello Admin'\n",
    "\n",
    "@app.route('/guest/<guest>')\n",
    "def hello_guest(guest):\n",
    "   return 'Hello %s as Guest' % guest\n",
    "\n",
    "@app.route('/user/<name>')\n",
    "def hello_user(name):\n",
    "    # this functions checks if an argument received matches a value or not\n",
    "    # and conditionally renders based on that\n",
    "   if name =='admin':\n",
    "      return redirect(url_for('hello_admin'))\n",
    "   else:\n",
    "      return redirect(url_for('hello_guest',guest = name))\n",
    "\n",
    "if __name__ == '__main__':\n",
    "   app.run(debug = True)\n",
    "```"
   ]
  },
  {
   "cell_type": "markdown",
   "metadata": {
    "slideshow": {
     "slide_type": "slide"
    }
   },
   "source": [
    "## HTTP Methods\n",
    "-----\n",
    "* HTTP Protocol is the foundation of data communication around the world wide web.\n",
    "* Different methods get different data from URLs defined by the protocol\n",
    "\n",
    "\n",
    "|Sr.No. |Method & Description|\n",
    "| ------------- |:-------------:|\n",
    "|GET | Sends data in unencrypted form to the server. Most common method.|\n",
    "|HEAD|Same as GET, but without response body|\n",
    "|POST|Used to send HTML form data to server. Data received by POST method is not cached by server.|\n",
    "|PUT|Replaces all current representations of the target resource with the uploaded content.|\n",
    "|DELETE|Removes all current representations of the target resource given by a URL| "
   ]
  },
  {
   "cell_type": "markdown",
   "metadata": {
    "slideshow": {
     "slide_type": "subslide"
    }
   },
   "source": [
    "* The Flask route responds to the `GET` requests. However, this preference can be altered by providing methods argument to `route()` decorator.\n",
    "\n",
    "In order to demonstrate the use of `POST` method in URL routing\n",
    "\n",
    "login.html\n",
    "```html\n",
    "<html>\n",
    "   <body>\n",
    "      <form action = \"http://localhost:5000/login\" method = \"post\">\n",
    "         <p>Enter Name:</p>\n",
    "         <p><input type = \"text\" name = \"nm\" /></p>\n",
    "         <p><input type = \"submit\" value = \"submit\" /></p>\n",
    "      </form>\n",
    "   </body>\n",
    "</html>\n",
    "\n",
    "```"
   ]
  },
  {
   "cell_type": "markdown",
   "metadata": {
    "slideshow": {
     "slide_type": "subslide"
    }
   },
   "source": [
    "login.py\n",
    "```python\n",
    "from flask import Flask, redirect, url_for, request\n",
    "app = Flask(__name__)\n",
    "\n",
    "@app.route('/success/<name>')\n",
    "def success(name):\n",
    "   return 'welcome %s' % name\n",
    "\n",
    "@app.route('/login',methods = ['POST', 'GET'])\n",
    "def login():\n",
    "   if request.method == 'POST':\n",
    "    # this maps the value we pass into the login function\n",
    "    # for the argument 'nm'\n",
    "      user = request.form['nm']\n",
    "      return redirect(url_for('success',name = user))\n",
    "   else:\n",
    "       # This gets the argument value for us\n",
    "       # and passes it in for the name parameter with the user var\n",
    "      user = request.args.get('nm')\n",
    "      return redirect(url_for('success',name = user))\n",
    "\n",
    "if __name__ == '__main__':\n",
    "   app.run(debug = True)\n",
    "```"
   ]
  },
  {
   "cell_type": "markdown",
   "metadata": {
    "slideshow": {
     "slide_type": "slide"
    }
   },
   "source": [
    "### Templates\n",
    "----\n",
    "* It is possible to return the output of a function bound to a certain URL in the form of HTML. \n",
    "    * `hello()` function will render `Hello World` with `<h1>` tag attached to it.\n",
    "\n",
    "```python\n",
    "from flask import Flask\n",
    "app = Flask(__name__)\n",
    "\n",
    "@app.route('/')\n",
    "def index`():\n",
    "   return '<html><body><h1>Hello World</h1></body></html>'\n",
    "\n",
    "if __name__ == '__main__':\n",
    "   app.run(debug = True)\n",
    "```"
   ]
  },
  {
   "cell_type": "markdown",
   "metadata": {
    "slideshow": {
     "slide_type": "subslide"
    }
   },
   "source": [
    "* Generating HTML content from Python code is cumbersome, especially when variable data and Python language elements like conditionals or loops need to be put. \n",
    "    * This would require frequent escaping from HTML.\n",
    "\n",
    "* Enter the  `Jinja2` template engine, on which Flask is based. \n",
    "    * Instead of returning hardcode HTML from the function, a HTML file can be rendered by the `render_template()` function.\n",
    "\n",
    "```python\n",
    "from flask import Flask\n",
    "app = Flask(__name__)\n",
    "\n",
    "@app.route('/')\n",
    "def index():\n",
    "   return render_template(‘hello.html’)\n",
    "\n",
    "if __name__ == '__main__':\n",
    "   app.run(debug = True)\n",
    "```\n"
   ]
  },
  {
   "cell_type": "markdown",
   "metadata": {},
   "source": [
    "* Flask will try to find the HTML file in the templates folder, in the same folder in which this script is present.\n",
    "\n",
    "```bash\n",
    "    Application folder\n",
    "        Hello.py\n",
    "        templates\n",
    "            hello.html\n",
    "```\n",
    "\n",
    "* The term **web templating system** refers to designing an HTML script in which the variable data can be inserted dynamically.\n",
    "    * A **web template system** comprises of a **template engine**, some kind of **data source** and a **template processor**.\n"
   ]
  },
  {
   "cell_type": "markdown",
   "metadata": {
    "slideshow": {
     "slide_type": "subslide"
    }
   },
   "source": [
    "* Flask uses **jinga2** template engine. \n",
    "* A web template contains HTML syntax interspersed placeholders for variables and expressions (in these case Python expressions) which are replaced values when the template is rendered.\n",
    "\n",
    "`hello.html` in a `templates` folder\n",
    "\n",
    "```html\n",
    "<!doctype html>\n",
    "<html>\n",
    "   <body>\n",
    "   \n",
    "      <h1>Hello {{ name }}!</h1>\n",
    "      \n",
    "   </body>\n",
    "</html>\n",
    "```"
   ]
  },
  {
   "cell_type": "markdown",
   "metadata": {},
   "source": [
    "```python\n",
    "from flask import Flask, render_template\n",
    "app = Flask(__name__)\n",
    "\n",
    "@app.route('/hello/<user>')\n",
    "def hello_name(user):\n",
    "   return render_template('hello.html', name = user)\n",
    "\n",
    "if __name__ == '__main__':\n",
    "   app.run(debug = True)\n",
    "```\n",
    "* `http://localhost:5000/hello/tom`\n",
    "* As the development server starts running, open the browser and enter URL the variable part of URL is inserted at `{{ name }}` place holder."
   ]
  },
  {
   "cell_type": "markdown",
   "metadata": {
    "slideshow": {
     "slide_type": "subslide"
    }
   },
   "source": [
    "##### Web Templating System Example\n",
    "\n",
    "* The `Jinga2` template engine uses the following delimiters for escaping from HTML.\n",
    "\n",
    "```text\n",
    "    {% ... %} for Statements\n",
    "    {{ ... }} for Expressions to print to the template output\n",
    "    {# ... #} for Comments not included in the template output\n",
    "    # ... ## for Line Statements\n",
    "```\n"
   ]
  },
  {
   "cell_type": "markdown",
   "metadata": {
    "slideshow": {
     "slide_type": "subslide"
    }
   },
   "source": [
    "* Example: use of conditional statement in a template\n",
    "    * The URL rule to the `hello()` function accepts the integer parameter. \n",
    "    * It is passed to the `hello.html` template. \n",
    "        * Inside it, the value of number received `(marks)` is compared (greater or less than 50) and accordingly HTML is conditionally rendered.\n",
    "\n",
    "```python\n",
    "from flask import Flask, render_template\n",
    "app = Flask(__name__)\n",
    "\n",
    "@app.route('/hello/<int:score>')\n",
    "def hello_name(score):\n",
    "   return render_template('hello.html', marks = score)\n",
    "\n",
    "if __name__ == '__main__':\n",
    "   app.run(debug = True)\n",
    "```"
   ]
  },
  {
   "cell_type": "markdown",
   "metadata": {
    "slideshow": {
     "slide_type": "subslide"
    }
   },
   "source": [
    "* `hello.html`\n",
    "```html\n",
    "<!doctype html>\n",
    "<html>\n",
    "   <body>\n",
    "      {% if marks>50 %}\n",
    "         <h1> Your result is pass!</h1>\n",
    "      {% else %}\n",
    "         <h1>Your result is fail</h1>\n",
    "      {% endif %}\n",
    "   </body>\n",
    "</html>\n",
    "```\n",
    "* The conditional statements `if-else` and `endif` are enclosed in delimiter `{%..%}`\n",
    "\n",
    "* visit URL `http://localhost/hello/60` and then `http://localhost/hello/30` \n"
   ]
  },
  {
   "cell_type": "markdown",
   "metadata": {
    "slideshow": {
     "slide_type": "subslide"
    }
   },
   "source": [
    "#### Loops in Statements\n",
    "---\n",
    "* The Python loop constructs can also be employed inside the template. \n",
    "* In the following script, the `result()` function sends a dictionary object to template `results.html` when URL `http://localhost:5000/result` is opened\n",
    "\n",
    "* The Template part of `result.html` employs a for loop to render key and value pairs of dictionary object `result{}` as cells of an HTML table.\n",
    "\n",
    "\n",
    "\n"
   ]
  },
  {
   "cell_type": "markdown",
   "metadata": {
    "slideshow": {
     "slide_type": "subslide"
    }
   },
   "source": [
    "* run this script inside the terminal or save it as `flask-conditional-loop.py` and run it\n",
    "\n",
    "```python\n",
    "from flask import Flask, render_template\n",
    "app = Flask(__name__)\n",
    "\n",
    "@app.route('/result')\n",
    "def result():\n",
    "   dict = {'phy':50,'che':60,'maths':70}\n",
    "   return render_template('result.html', result = dict)\n",
    "\n",
    "if __name__ == '__main__':\n",
    "   app.run(debug = True)\n",
    "````"
   ]
  },
  {
   "cell_type": "markdown",
   "metadata": {
    "slideshow": {
     "slide_type": "subslide"
    }
   },
   "source": [
    "* `result.html` in the `templates` folder.\n",
    "\n",
    "```html\n",
    "<!doctype html>\n",
    "<html>\n",
    "   <body>\n",
    "      <table border = 1>\n",
    "         {% for key, value in result.iteritems() %}\n",
    "            <tr>\n",
    "               <th> {{ key }} </th>\n",
    "               <td> {{ value }} </td>\n",
    "            </tr>\n",
    "         {% endfor %}\n",
    "      </table>\n",
    "   </body>\n",
    "</html>\n",
    "```\n",
    "* The Python statements corresponding to the For loop are enclosed in `{%..%}` whereas, the expressions key and value are put inside `{{ }}`.\n",
    "\n",
    "* open `http://localhost:5000/result`"
   ]
  },
  {
   "cell_type": "markdown",
   "metadata": {
    "slideshow": {
     "slide_type": "slide"
    }
   },
   "source": [
    "### Static Files\n",
    "----\n",
    "* A web application often requires a static file such as a javascript file or a CSS file supporting the display of a web page. \n",
    "    * Usually, the web server is configured to serve them for you\n",
    "    * During the development, these files are served from **static folder** in your package or next to your module and it will be available at `/static` on the application.\n",
    "    * A special endpoint ‘static’ is used to generate URL for static files."
   ]
  },
  {
   "cell_type": "markdown",
   "metadata": {
    "slideshow": {
     "slide_type": "subslide"
    }
   },
   "source": [
    "* Javascript function defined in `hello.js` is called on `OnClick` event of HTML button in `index.html`, which is rendered on `/` URL of the Flask application.\n"
   ]
  },
  {
   "cell_type": "markdown",
   "metadata": {
    "slideshow": {
     "slide_type": "fragment"
    }
   },
   "source": [
    "* Our python App server:\n",
    "\n",
    "```python\n",
    "from flask import Flask, render_template\n",
    "app = Flask(__name__)\n",
    "\n",
    "@app.route(\"/\")\n",
    "def index():\n",
    "   return render_template(\"index.html\")\n",
    "\n",
    "if __name__ == '__main__':\n",
    "   app.run(debug = True)\n",
    "```"
   ]
  },
  {
   "cell_type": "markdown",
   "metadata": {
    "slideshow": {
     "slide_type": "subslide"
    }
   },
   "source": [
    "* `index.html`\n",
    "\n",
    "```html\n",
    "<html>\n",
    "   <head>\n",
    "      <script type = \"text/javascript\" \n",
    "         src = \"{{ url_for('static', filename = 'hello.js') }}\" ></script>\n",
    "   </head>\n",
    "   \n",
    "   <body>\n",
    "      <input type = \"button\" onclick = \"sayHello()\" value = \"Say Hello\" />\n",
    "   </body>\n",
    "</html>\n",
    "```"
   ]
  },
  {
   "cell_type": "markdown",
   "metadata": {
    "slideshow": {
     "slide_type": "fragment"
    }
   },
   "source": [
    "* `hello.js`\n",
    "\n",
    "```javascript\n",
    "function sayHello() {\n",
    "    alert(\"Hello World\")\n",
    "}\n",
    "```"
   ]
  },
  {
   "cell_type": "markdown",
   "metadata": {
    "slideshow": {
     "slide_type": "slide"
    }
   },
   "source": [
    "### Request Object\n",
    "----\n",
    "* The data from a client’s web page is sent to the server as a global request object. \n",
    "* In order to process the request data, it should be imported from the Flask module.\n",
    "\n",
    "* Important attributes of request object are listed below −\n",
    "\n",
    "   * **Form** − It is a dictionary object containing key and value pairs of form parameters and their values.\n",
    "\n",
    "  * **args** − parsed contents of query string which is part of URL after question mark (?).\n",
    "\n",
    "  * **Cookies** − dictionary object holding Cookie names and values.\n",
    "\n",
    "  * **files** − data pertaining to uploaded file.\n",
    "\n",
    "  * **method** − current request method.\n"
   ]
  },
  {
   "cell_type": "markdown",
   "metadata": {
    "slideshow": {
     "slide_type": "slide"
    }
   },
   "source": [
    "### Sending Form Data to a Template\n",
    "-----\n",
    "* Have already seen that the http method can be specified in URL rule.\n",
    "* The Form data received by the triggered function can collect it in the form of a dictionary object and forward it to a template to render it on a corresponding web page. \n",
    "* The next examples shoes this using `/` to render a web page `student.html`, with a form\n",
    "* The data is filled in and posted to the `/result` url to trigger `result()`\n",
    "* `results()` function collects form data persent in `request.form` in the dictionary object and send it off to the be rendered in `result.html`"
   ]
  },
  {
   "cell_type": "markdown",
   "metadata": {
    "slideshow": {
     "slide_type": "subslide"
    }
   },
   "source": [
    "* Our python App Server\n",
    "\n",
    "```python\n",
    "from flask import Flask, render_template, request\n",
    "app = Flask(__name__)\n",
    "\n",
    "@app.route('/')\n",
    "def student():\n",
    "   return render_template('student.html')\n",
    "\n",
    "@app.route('/result',methods = ['POST', 'GET'])\n",
    "def result():\n",
    "   if request.method == 'POST':\n",
    "      result = request.form\n",
    "      return render_template(\"result.html\",result = result)\n",
    "\n",
    "if __name__ == '__main__':\n",
    "   app.run(debug = True)\n",
    "```"
   ]
  },
  {
   "cell_type": "markdown",
   "metadata": {
    "slideshow": {
     "slide_type": "subslide"
    }
   },
   "source": [
    "* `student.html`\n",
    "```html\n",
    "<html>\n",
    "   <body>\n",
    "      <form action = \"http://localhost:5000/result\" method = \"POST\">\n",
    "         <p>Name <input type = \"text\" name = \"Name\" /></p>\n",
    "         <p>Physics <input type = \"text\" name = \"Physics\" /></p>\n",
    "         <p>Chemistry <input type = \"text\" name = \"chemistry\" /></p>\n",
    "         <p>Maths <input type =\"text\" name = \"Mathematics\" /></p>\n",
    "         <p><input type = \"submit\" value = \"submit\" /></p>\n",
    "      </form>\n",
    "   </body>\n",
    "</html>\n",
    "```"
   ]
  },
  {
   "cell_type": "markdown",
   "metadata": {
    "slideshow": {
     "slide_type": "subslide"
    }
   },
   "source": [
    "* `result.html`\n",
    "\n",
    "```html\n",
    "<!doctype html>\n",
    "<html>\n",
    "   <body>\n",
    "      <table border = 1>\n",
    "         {% for key, value in result.items() %}\n",
    "            <tr>\n",
    "               <th> {{ key }} </th>\n",
    "               <td> {{ value }} </td>\n",
    "            </tr>\n",
    "         {% endfor %}\n",
    "      </table>\n",
    "   </body>\n",
    "</html>\n",
    "```\n",
    "\n",
    "* Run the code and submit some data into the template to see it work"
   ]
  },
  {
   "cell_type": "markdown",
   "metadata": {
    "slideshow": {
     "slide_type": "slide"
    }
   },
   "source": [
    "### Cookies\n",
    "----\n",
    "* A **cookie** is stored on a client’s computer in the form of a text file. \n",
    "    * Its purpose is to remember and track data pertaining to a client’s usage for better visitor experience and site statistics.\n",
    "\n",
    "* A Request object contains a cookie’s attribute. \n",
    "    * It is a dictionary object of all the cookie variables and their corresponding values, a client has transmitted. \n",
    "    * In addition to it, a cookie also stores its expiry time, path and domain name of the site.\n",
    "\n",
    "* Flask: cookies are set on response object. \n",
    "    * Use `make_response()` function to get response object from return value of a view function. \n",
    "    * After that, use the `set_cookie()` function of response object to store a cookie.\n",
    "\n",
    "* Reading back a cookie is easy. The `get()` method of `request.cookies` attribute is used to read a cookie.\n"
   ]
  },
  {
   "cell_type": "markdown",
   "metadata": {
    "slideshow": {
     "slide_type": "subslide"
    }
   },
   "source": [
    "* In the following Flask application, a simple form opens up as you visit `/` URL.\n",
    "\n",
    "```python\n",
    "from flask import Flask, render_template, request\n",
    "app = Flask(__name__)\n",
    "\n",
    "@app.route('/')\n",
    "def index():\n",
    "   return render_template('index.html')\n",
    "\n",
    "# The Form is posted to ‘/setcookie’ URL. \n",
    "# The view function sets a Cookie name userID and renders another page.\n",
    "\n",
    "@app.route('/setcookie', methods = ['POST', 'GET'])\n",
    "def setcookie():\n",
    "   if request.method == 'POST':\n",
    "   user = request.form['nm']\n",
    "   \n",
    "   resp = make_response(render_template('readcookie.html'))\n",
    "   resp.set_cookie('userID', user)\n",
    "   \n",
    "   return resp\n",
    "\n",
    "# ‘readcookie.html’ contains a hyperlink to another view function \n",
    "# getcookie(), which reads back and displays the cookie value in browser.\n",
    "\n",
    "@app.route('/getcookie')\n",
    "def getcookie():\n",
    "   name = request.cookies.get('userID')\n",
    "   return '<h1>welcome '+name+'</h1>'\n",
    "\n",
    "\n",
    "if __name__ == '__main__':\n",
    "   app.run(debug = True)\n",
    "```"
   ]
  },
  {
   "cell_type": "markdown",
   "metadata": {
    "slideshow": {
     "slide_type": "subslide"
    }
   },
   "source": [
    "* the html context for `cookie.html`\n",
    "\n",
    "```html\n",
    "<html>\n",
    "   <body>\n",
    "      <form action = \"/setcookie\" method = \"POST\">\n",
    "         <p><h3>Enter userID</h3></p>\n",
    "         <p><input type = 'text' name = 'nm'/></p>\n",
    "         <p><input type = 'submit' value = 'Login'/></p>\n",
    "      </form>\n",
    "   </body>\n",
    "</html>\n",
    "```"
   ]
  },
  {
   "cell_type": "markdown",
   "metadata": {
    "slideshow": {
     "slide_type": "subslide"
    }
   },
   "source": [
    "\n",
    "\n",
    "Run the application and visit http://localhost:5000/\n",
    "\n",
    "enter some information and go to `setcookie` and `getcookie`"
   ]
  },
  {
   "cell_type": "markdown",
   "metadata": {
    "slideshow": {
     "slide_type": "slide"
    }
   },
   "source": [
    "### Sessions:\n",
    "----\n",
    "* Unlike a Cookie, **Session** data is stored on server. \n",
    "* Session is the time interval when a client logs into a server and logs out of it. \n",
    "* The data, which is needed to be held across this session, is stored in a temporary directory on the server.\n",
    "\n",
    "* A session with each client is assigned a Session ID. \n",
    "* The Session data is stored on top of cookies and the server signs them cryptographically. \n",
    "    * For this encryption, a Flask application needs a defined `SECRET_KEY`.\n",
    "\n",
    "* Session object is also a dictionary object containing key-value pairs of session variables and associated values.\n"
   ]
  },
  {
   "cell_type": "markdown",
   "metadata": {
    "slideshow": {
     "slide_type": "subslide"
    }
   },
   "source": [
    "* To set a ‘username’ session variable use the statement −\n",
    "\n",
    "`Session[‘username’] = ’admin’`\n",
    "\n",
    "To release a session variable use `pop()` method.\n",
    "\n",
    "`session.pop('username', None)`\n",
    "\n",
    "The following is a simple demonstration of session works in Flask. \n",
    "URL `/` simply prompts user to log in, as session variable ‘username’ is not set."
   ]
  },
  {
   "cell_type": "markdown",
   "metadata": {},
   "source": [
    "\n",
    "```python\n",
    "@app.route('/')\n",
    "def index():\n",
    "   if 'username' in session:\n",
    "      username = session['username']\n",
    "         return 'Logged in as ' + username + '<br>' + \\\n",
    "         \"<b><a href = '/logout'>click here to log out</a></b>\"\n",
    "   return \"You are not logged in <br><a href = '/login'></b>\" + \\\n",
    "      \"click here to log in</b></a>\"\n",
    "```\n",
    "* As user browses to `/login` the `login()` view function, because it is called through `GET` method, opens up a login form.\n"
   ]
  },
  {
   "cell_type": "markdown",
   "metadata": {
    "slideshow": {
     "slide_type": "subslide"
    }
   },
   "source": [
    "* A Form is posted back to `/login` and now session variable is set.\n",
    "* Application is redirected to `/`. This time session variable ‘username’ is found.\n",
    "\n",
    "```python\n",
    "@app.route('/login', methods = ['GET', 'POST'])\n",
    "def login():\n",
    "   if request.method == 'POST':\n",
    "      session['username'] = request.form['username']\n",
    "      return redirect(url_for('index'))\n",
    "   return '''\n",
    "\t\n",
    "   <form action = \"\" method = \"post\">\n",
    "      <p><input type = text name = username/></p>\n",
    "      <p<<input type = submit value = Login/></p>\n",
    "   </form>\n",
    "\t\n",
    "   '''\n",
    "```"
   ]
  },
  {
   "cell_type": "markdown",
   "metadata": {
    "slideshow": {
     "slide_type": "subslide"
    }
   },
   "source": [
    "\n",
    "* The application also contains a `logout()` view function, which pops out ‘username’ session variable. Hence, ‘/’ URL again shows the opening page.\n",
    "```python\n",
    "@app.route('/logout')\n",
    "def logout():\n",
    "   # remove the username from the session if it is there\n",
    "   session.pop('username', None)\n",
    "   return redirect(url_for('index'))\n",
    "```\n",
    "* Run the application and visit the homepage. (Ensure to set secret_key of the application)\n",
    "```python\n",
    "from flask import Flask, session, redirect, url_for, escape, request\n",
    "app = Flask(__name__)\n",
    "app.secret_key = 'any random string’\n",
    "```"
   ]
  },
  {
   "cell_type": "markdown",
   "metadata": {
    "slideshow": {
     "slide_type": "slide"
    }
   },
   "source": [
    "* `sessions.py`\n",
    "```text\n",
    "from flask import Flask, session, redirect, url_for, escape, request\n",
    "app = Flask(__name__)\n",
    "app.secret_key = 'any random string’\n",
    "```\n",
    "\n",
    "```text\n",
    "@app.route('/')\n",
    "def index():\n",
    "   if 'username' in session:\n",
    "      username = session['username']\n",
    "         return 'Logged in as ' + username + '<br>' + \\\n",
    "         \"<b><a href = '/logout'>click here to log out</a></b>\"\n",
    "   return \"You are not logged in <br><a href = '/login'></b>\" + \\\n",
    "      \"click here to log in</b></a>\"\n",
    "```\n",
    "\n",
    "```text\n",
    "@app.route('/login', methods = ['GET', 'POST'])\n",
    "def login():\n",
    "   if request.method == 'POST':\n",
    "      session['username'] = request.form['username']\n",
    "      return redirect(url_for('index'))\n",
    "   return '''\n",
    "\t\n",
    "   <form action = \"\" method = \"post\">\n",
    "      <p><input type = text name = username/></p>\n",
    "      <p<<input type = submit value = Login/></p>\n",
    "   </form>\n",
    "\t\n",
    "   '''\n",
    "```\n",
    "\n",
    "```text\n",
    "@app.route('/logout')\n",
    "def logout():\n",
    "   # remove the username from the session if it is there\n",
    "   session.pop('username', None)\n",
    "   return redirect(url_for('index'))\n",
    "\n",
    "if __name__ == '__main__':\n",
    "   app.run(debug = True)\n",
    "```\n",
    "* Click the link “click here to log in”.\n",
    "* The link will be directed to another screen. Type ‘admin’.\n",
    "* The screen will show you the message, ‘Logged in as admin’.\n"
   ]
  },
  {
   "cell_type": "markdown",
   "metadata": {
    "slideshow": {
     "slide_type": "slide"
    }
   },
   "source": [
    "### Redirect & Error Forms\n",
    "-----\n",
    "* Flask class has a `redirect()` function. \n",
    "* When called, it returns a response object and redirects the user to another target location with specified status code.\n",
    "\n",
    "* Prototype of `redirect()` function i:\n",
    "\n",
    "`Flask.redirect(location, statuscode, response)`\n",
    "\n",
    "* In the above function −\n",
    "\n",
    "  * **location** parameter is the URL where response should be redirected.\n",
    "\n",
    "  * **statuscode** sent to browser’s header, defaults to 302.\n",
    "\n",
    "  * **response** parameter is used to instantiate response."
   ]
  },
  {
   "cell_type": "markdown",
   "metadata": {
    "slideshow": {
     "slide_type": "subslide"
    }
   },
   "source": [
    "The following status codes are standardized −\n",
    "\n",
    "* `    HTTP_300_MULTIPLE_CHOICES`\n",
    "* `    HTTP_301_MOVED_PERMANENTLY`\n",
    "* `    HTTP_302_FOUND`\n",
    "* `    HTTP_303_SEE_OTHER`\n",
    "* `    HTTP_304_NOT_MODIFIED`\n",
    "* `    HTTP_305_USE_PROXY`\n",
    "* `    HTTP_306_RESERVED`\n",
    "* `    HTTP_307_TEMPORARY_REDIRECT`"
   ]
  },
  {
   "cell_type": "markdown",
   "metadata": {
    "slideshow": {
     "slide_type": "subslide"
    }
   },
   "source": [
    "* In the following example, the `redirect()` function is used to display the login page again when a login attempt fails.\n",
    "\n",
    "```python \n",
    "from flask import Flask, redirect, url_for, render_template, request\n",
    "# Initialize the Flask application\n",
    "app = Flask(__name__)\n",
    "\n",
    "@app.route('/')\n",
    "def index():\n",
    "   return render_template('log_in.html')\n",
    "\n",
    "@app.route('/login',methods = ['POST', 'GET'])\n",
    "def login():\n",
    "   if request.method == 'POST' and\n",
    "   request.form['username'] == 'admin' :\n",
    "   return redirect(url_for('success'))\n",
    "   return redirect(url_for('index'))\n",
    "\n",
    "@app.route('/success')\n",
    "def success():\n",
    "   return 'logged in successfully'\n",
    "\t\n",
    "if __name__ == '__main__':\n",
    "   app.run(debug = True)\n",
    "```"
   ]
  },
  {
   "cell_type": "markdown",
   "metadata": {
    "slideshow": {
     "slide_type": "subslide"
    }
   },
   "source": [
    "* Flask class has `abort()` function with an error code.\n",
    "\n",
    "`Flask.abort(code)`\n",
    "\n",
    "* The Code parameter takes one of following:\n",
    "\n",
    "  * `400 − for Bad Request`\n",
    "\n",
    "  * `401 − for Unauthenticated`\n",
    "\n",
    "  * `403 − for Forbidden`\n",
    "\n",
    "  * `404 − for Not Found`\n",
    "\n",
    "  * `406 − for Not Acceptable`\n",
    "\n",
    "  * `415 − for Unsupported Media Type`\n",
    "\n",
    "  * `429 − Too Many Requests`\n",
    "\n",
    "* Change in the `login()` function in the above code. \n",
    "    * Instead of re-displaying the login page, if ‘Unauthourized’ page is to be displayed, replace it with call to `abort(401)`\n"
   ]
  },
  {
   "cell_type": "markdown",
   "metadata": {
    "slideshow": {
     "slide_type": "subslide"
    }
   },
   "source": [
    "```python\n",
    "\n",
    "from flask import Flask, redirect, url_for, render_template, request, abort\n",
    "app = Flask(__name__)\n",
    "\n",
    "@app.route('/')\n",
    "def index():\n",
    "   return render_template('log_in.html')\n",
    "\n",
    "@app.route('/login',methods = ['POST', 'GET'])\n",
    "def login():\n",
    "   if request.method == 'POST':\n",
    "      if request.form['username'] == 'admin' :\n",
    "         return redirect(url_for('success'))\n",
    "      else:\n",
    "         abort(401)\n",
    "   else:\n",
    "      return redirect(url_for('index'))\n",
    "\n",
    "@app.route('/success')\n",
    "def success():\n",
    "   return 'logged in successfully'\n",
    "\n",
    "if __name__ == '__main__':\n",
    "   app.run(debug = True)\n",
    "\n",
    "```"
   ]
  },
  {
   "cell_type": "markdown",
   "metadata": {
    "slideshow": {
     "slide_type": "slide"
    }
   },
   "source": [
    "### Message Flashing\n",
    "----\n",
    "* A good GUI based application provides feedback to a user about the interaction. \n",
    "* Generating such informative messages is easy in Flask web application. \n",
    "* Flashing system of Flask framework makes it possible to create a message in one view and render it in a view function called `next`.\n",
    "\n",
    "* A Flask module contains `flash()` method. \n",
    "    * It passes a message to the next request, which generally is a template.\n",
    "\n",
    "* `flash(message, category)`\n",
    "\n",
    " *  **message** parameter is the actual message to be flashed.\n",
    "\n",
    " *  **category** parameter is optional. It can be either ‘error’, ‘info’ or ‘warning’.\n",
    "\n"
   ]
  },
  {
   "cell_type": "markdown",
   "metadata": {
    "slideshow": {
     "slide_type": "subslide"
    }
   },
   "source": [
    "* In order to remove message from session, template calls `get_flashed_messages()`\n",
    "\n",
    "`get_flashed_messages(with_categories, category_filter)`\n",
    "\n",
    "* Both parameters are optional. \n",
    "    * The first parameter is a tuple if received messages are having category. \n",
    "    * The second parameter is useful to display only specific messages.\n"
   ]
  },
  {
   "cell_type": "markdown",
   "metadata": {
    "slideshow": {
     "slide_type": "subslide"
    }
   },
   "source": [
    "* Following falses received messages in a template\n",
    "\n",
    "```python\n",
    "{% with messages = get_flashed_messages() %}\n",
    "   {% if messages %}\n",
    "      {% for message in messages %}\n",
    "         {{ message }}\n",
    "      {% endfor %}\n",
    "   {% endif %}\n",
    "{% endwith %}\n",
    "\n",
    "```\n"
   ]
  },
  {
   "cell_type": "markdown",
   "metadata": {
    "slideshow": {
     "slide_type": "subslide"
    }
   },
   "source": [
    "* simple example, demonstrating the flashing mechanism in Flask.\n",
    "* In the following code, a `/` URL displays link to the login page, with no message to flash"
   ]
  },
  {
   "cell_type": "markdown",
   "metadata": {
    "slideshow": {
     "slide_type": "subslide"
    }
   },
   "source": [
    "* `flash.py`\n",
    "\n",
    "```python\n",
    "@app.route('/')\n",
    "def index():\n",
    "   return render_template('index.html')\n",
    "\n",
    "@app.route('/login', methods = ['GET', 'POST'])\n",
    "def login():\n",
    "   error = None\n",
    "   \n",
    "   if request.method == 'POST':\n",
    "      if request.form['username'] != 'admin' or \\\n",
    "         request.form['password'] != 'admin':\n",
    "         error = 'Invalid username or password. Please try again!'\n",
    "      else:\n",
    "         flash('You were successfully logged in')\n",
    "         return redirect(url_for('index'))\n",
    "   return render_template('login.html', error = error)\n",
    "```\n",
    "* The link leads a user to `/login` URL which displays a login form.\n",
    "* When submitted, the `login()` view function verifies a username and password and accordingly flashes a ‘success’ message or creates ‘error’ variable."
   ]
  },
  {
   "cell_type": "markdown",
   "metadata": {
    "slideshow": {
     "slide_type": "subslide"
    }
   },
   "source": [
    "* `login.html`\n",
    "\n",
    "```html\n",
    "<!doctype html>\n",
    "<html>\n",
    "   <body>\n",
    "      <h1>Login</h1>\n",
    "\n",
    "      {% if error %}\n",
    "         <p><strong>Error:</strong> {{ error }}\n",
    "      {% endif %}\n",
    "      \n",
    "      <form action = \"\" method = post>\n",
    "         <dl>\n",
    "            <dt>Username:</dt>\n",
    "            <dd>\n",
    "               <input type = text name = username \n",
    "                  value = \"{{request.form.username }}\">\n",
    "            </dd>\n",
    "            <dt>Password:</dt>\n",
    "            <dd><input type = password name = password></dd>\n",
    "         </dl>\n",
    "         <p><input type = submit value = Login></p>\n",
    "      </form>\n",
    "   </body>\n",
    "</html>\n",
    "\n",
    "```"
   ]
  },
  {
   "cell_type": "markdown",
   "metadata": {
    "slideshow": {
     "slide_type": "subslide"
    }
   },
   "source": [
    "* If `login` is successful, a success message is flashed on the index template.\n",
    "`index.html`\n",
    "\n",
    "```index.html\n",
    "<!doctype html>\n",
    "<html>\n",
    "   <head>\n",
    "      <title>Flask Message flashing</title>\n",
    "   </head>\n",
    "   <body>\n",
    "      {% with messages = get_flashed_messages() %}\n",
    "         {% if messages %}\n",
    "            <ul>\n",
    "               {% for message in messages %}\n",
    "               <li<{{ message }}</li>\n",
    "               {% endfor %}\n",
    "            </ul>\n",
    "         {% endif %}\n",
    "      {% endwith %}\n",
    "\t\t\n",
    "      <h1>Flask Message Flashing Example</h1>\n",
    "      <p>Do you want to <a href = \"{{ url_for('login') }}\">\n",
    "         <b>log in?</b></a></p>\n",
    "   </body>\n",
    "</html>\n",
    "```"
   ]
  },
  {
   "cell_type": "markdown",
   "metadata": {
    "slideshow": {
     "slide_type": "subslide"
    }
   },
   "source": [
    "* Added in `secret_key` to the `flash.py` example\n",
    "\n",
    "```python\n",
    "\n",
    "from flask import Flask, flash, redirect, render_template, request, url_for\n",
    "app = Flask(__name__)\n",
    "app.secret_key = 'random string'\n",
    "\n",
    "@app.route('/')\n",
    "def index():\n",
    "   return render_template('index.html')\n",
    "\n",
    "@app.route('/login', methods = ['GET', 'POST'])\n",
    "def login():\n",
    "   error = None\n",
    "   \n",
    "   if request.method == 'POST':\n",
    "      if request.form['username'] != 'admin' or \\\n",
    "         request.form['password'] != 'admin':\n",
    "         error = 'Invalid username or password. Please try again!'\n",
    "      else:\n",
    "         flash('You were successfully logged in')\n",
    "         return redirect(url_for('index'))\n",
    "\t\t\t\n",
    "   return render_template('login.html', error = error)\n",
    "\n",
    "if __name__ == \"__main__\":\n",
    "   app.run(debug = True)\n",
    "```"
   ]
  },
  {
   "cell_type": "markdown",
   "metadata": {
    "slideshow": {
     "slide_type": "slide"
    }
   },
   "source": [
    "### FIle Uploading\n",
    "----\n",
    "* Handling file upload in Flask is very easy. \n",
    "* It needs an HTML form with its `enctype` attribute set to `multipart/form-data`, posting the file to a URL. \n",
    "    * The URL handler fetches file from `request.files` object and saves it to the desired location.\n",
    "\n",
    "* Each uploaded file is first saved in a temporary location on the server, before it is actually saved to its ultimate location.\n",
    "    * Name of destination file can be hard-coded or can be obtained from filename property of `request.files[file]` object. \n",
    "    * It is recommended to obtain a secure version of it using the `secure_filename()` function.\n",
    "\n",
    "Can also define maximums:\n",
    "\n",
    "| | |\n",
    "| ---:|---:|\n",
    "|`app.cinfig['UPLOAD_FOLDER']`| defines a path for a folder|\n",
    "|`app.config['MAX_CONTENT_PATH']`| specifies the maximum file in bytes|"
   ]
  },
  {
   "cell_type": "markdown",
   "metadata": {
    "slideshow": {
     "slide_type": "subslide"
    }
   },
   "source": [
    "* `upload.html`\n",
    "```html\n",
    "<html>\n",
    "   <body>\n",
    "      <form action = \"http://localhost:5000/uploader\" method = \"POST\" \n",
    "         enctype = \"multipart/form-data\">\n",
    "         <input type = \"file\" name = \"file\" />\n",
    "         <input type = \"submit\"/>\n",
    "      </form>\n",
    "   </body>\n",
    "</html>\n",
    "```"
   ]
  },
  {
   "cell_type": "markdown",
   "metadata": {
    "slideshow": {
     "slide_type": "subslide"
    }
   },
   "source": [
    "* Click `Submit` after choosing file. \n",
    "    * Form’s post method invokes `/upload_file` URL. \n",
    "    * The underlying function `uploader()` does the save operation.\n",
    "    \n",
    "```python\n",
    "from flask import Flask, render_template, request\n",
    "from werkzeug import secure_filename\n",
    "app = Flask(__name__)\n",
    "\n",
    "@app.route('/upload')\n",
    "def upload_file():\n",
    "   return render_template('upload.html')\n",
    "\t\n",
    "@app.route('/uploader', methods = ['GET', 'POST'])\n",
    "def upload_file():\n",
    "   if request.method == 'POST':\n",
    "      f = request.files['file']\n",
    "      f.save(secure_filename(f.filename))\n",
    "      return 'file uploaded successfully'\n",
    "\t\t\n",
    "if __name__ == '__main__':\n",
    "   app.run(debug = True)\n",
    "```"
   ]
  },
  {
   "cell_type": "markdown",
   "metadata": {
    "slideshow": {
     "slide_type": "slide"
    }
   },
   "source": [
    "### Extensions\n",
    "----\n",
    "* Flask is often referred to as a micro framework, because a core functionality includes WSGI and routing based on Werkzeug and template engine based on Jinja2. \n",
    "* Flask framework has support for cookie and sessions as well as web helpers like JSON, static files etc.\n",
    "* Flask extensions give extensibility to Flask framework.\n",
    "\n",
    "* A Flask extension is a Python module, which adds specific type of support to the Flask application. \n",
    "* Flask Extension Registry is a directory of extensions available. The required extension can be downloaded by `pip` utility.\n",
    "\n",
    "  * **Flask Mail** − provides SMTP interface to Flask application\n",
    "\n",
    "  * **Flask WTF** − adds rendering and validation of WTForms\n",
    "\n",
    "  * **Flask SQLAlchemy** − adds SQLAlchemy support to Flask application\n",
    "\n",
    "  * **Flask Sijax** − Interface for Sijax - Python/jQuery library that makes AJAX easy to use in web applications\n"
   ]
  },
  {
   "cell_type": "markdown",
   "metadata": {
    "slideshow": {
     "slide_type": "subslide"
    }
   },
   "source": [
    "\n",
    "* Since an extension is a Python module, it needs to be imported for it to be used. Flask extensions are generally named as `flask-foo`. To import,\n",
    "\n",
    "`from flask_foo import [class, function]`\n",
    "\n",
    "For versions of Flask later than 0.7, you can also use the syntax −\n",
    "\n",
    "`from flask.ext import foo`\n",
    "\n",
    "For this usage, a compatibility module needs to be activated. It can be installed by running `flaskext_compat.py`\n",
    "```python\n",
    "import flaskext_compat\n",
    "flaskext_compat.activate()\n",
    "from flask.ext import foo\n",
    "```"
   ]
  },
  {
   "cell_type": "markdown",
   "metadata": {
    "slideshow": {
     "slide_type": "slide"
    }
   },
   "source": [
    "### Flask-WTF\n",
    "----\n",
    "* One of the essential aspects of a web application is to present a user interface for the user.\n",
    "* HTML provides a `<form>` tag, which is used to design an interface. \n",
    "* A Form’s elements such as text input, radio, select etc. can be used appropriately."
   ]
  },
  {
   "cell_type": "markdown",
   "metadata": {
    "slideshow": {
     "slide_type": "subslide"
    }
   },
   "source": [
    "* Data entered by a user is submitted in the form of Http request message to the server side script by either GET or POST method.\n",
    "\n",
    "  * The Server side script has to recreate the form elements from http request data. So in effect, form elements have to be defined twice – once in HTML and again in the server side script.\n",
    "\n",
    "  * Another disadvantage of using HTML form is that it is difficult (if not impossible) to render the form elements dynamically. HTML itself provides no way to validate a user’s input."
   ]
  },
  {
   "cell_type": "markdown",
   "metadata": {
    "slideshow": {
     "slide_type": "subslide"
    }
   },
   "source": [
    "* `WTForms`, a flexible form, rendering and validation library comes handy. Flask-WTF extension provides a simple interface with this WTForms library.\n",
    "\n",
    "* Using `Flask-WTF`, we can define the form fields in our Python script and render them using an HTML template. \n",
    "* It is also possible to apply validation to the WTF field.\n"
   ]
  },
  {
   "cell_type": "markdown",
   "metadata": {
    "slideshow": {
     "slide_type": "subslide"
    }
   },
   "source": [
    "* Flask-WTF extension needs to be installed.\n",
    "\n",
    "`pip install flask-WTF`\n",
    "or\n",
    "`pipenv install flask-WTF`\n",
    "\n",
    "The installed package contains a `Form` class, which has to be used as a parent for user- defined form.\n",
    "\n",
    "WTforms package contains definitions of various form fields\n",
    "\n",
    "| Sr.No        | Standard Form Fields & Description           |\n",
    "| ------------- |:-------------:|\n",
    "|TextField| Represents `<input type = 'text'>` HTML form element|\n",
    "|BooleanField|Represents `<input type = 'checkbox'>` HTML form element|\n",
    "|DecimalField|Textfield for displaying number with decimals|\n",
    "|IntegerField|TextField for displaying integer|\n",
    "|RadioField|Represents `<input type = 'radio'>` HTML form element|\n",
    "|SelectField|Represents select form element|\n",
    "|TextAreaField|Represents `<testarea>` html form element|\n",
    "|PasswordField|Represents `<input type = 'password'>` HTML form element|\n",
    "|SubmitField|Represents `<input type = 'submit'>` form element|\n"
   ]
  },
  {
   "cell_type": "markdown",
   "metadata": {
    "slideshow": {
     "slide_type": "subslide"
    }
   },
   "source": [
    "```python\n",
    "from flask_wtf import Form\n",
    "from wtforms import TextField\n",
    "\n",
    "class ContactForm(Form):\n",
    "   name = TextField(\"Name Of Student\")\n",
    "```\n",
    "creates a simple form that when rendered will represent\n",
    "```html\n",
    "<input id = \"csrf_token\" name = \"csrf_token\" type = \"hidden\" />\n",
    "<label for = \"name\">Name Of Student</label><br>\n",
    "<input id = \"name\" name = \"name\" type = \"text\" value = \"\" />\n",
    "```"
   ]
  },
  {
   "cell_type": "markdown",
   "metadata": {
    "slideshow": {
     "slide_type": "subslide"
    }
   },
   "source": [
    "A user-defined form class is used in a Flask application and the form is rendered using a template\n",
    "\n",
    "```python\n",
    "from flask import Flask, render_template\n",
    "from forms import ContactForm\n",
    "app = Flask(__name__)\n",
    "app.secret_key = 'development key'\n",
    "\n",
    "@app.route('/contact')\n",
    "def contact():\n",
    "   form = ContactForm()\n",
    "   return render_template('contact.html', form = form)\n",
    "\n",
    "if __name__ == '__main__':\n",
    "   app.run(debug = True)\n",
    "```"
   ]
  },
  {
   "cell_type": "markdown",
   "metadata": {
    "slideshow": {
     "slide_type": "subslide"
    }
   },
   "source": [
    "* WTForms package also contains validator class. It is useful in applying validation to form fields\n",
    "\n",
    "| Sr.No         | Validators Class & Description | \n",
    "| ------------- |:-------------:| \n",
    "|DataRequired|Checks whether input field is empty|\n",
    "|Email|Checks whether text in the field follows email ID conventions|\n",
    "|IPAddress|Validates IP address in input field|\n",
    "|Length|Verifies if length of string in input field is in given range|\n",
    "|NumberRange|Validates a number in input field within given rang\n",
    "|URL|Validates URL entered in input field"
   ]
  },
  {
   "cell_type": "markdown",
   "metadata": {
    "slideshow": {
     "slide_type": "subslide"
    }
   },
   "source": [
    "To apply the 'DataRequired' validation rule:\n",
    "```python\n",
    "name = TextField(\"Name Of Student\",[validators.Required(\"Please enter your name.\")])\n",
    "```\n",
    "* The `validate()` function of form object validates the form data and throws the validation errors if validation fails.\n",
    "* The Error messages are sent to the template. In the HTML template, error messages are rendered dynamically.\n",
    "\n",
    "```python\n",
    "{% for message in form.name.errors %}\n",
    "   {{ message }}\n",
    "{% endfor %}\n",
    "```"
   ]
  },
  {
   "cell_type": "markdown",
   "metadata": {
    "slideshow": {
     "slide_type": "subslide"
    }
   },
   "source": [
    "The design of Contact form is given below (`forms.py`).\n",
    "\n",
    "```python\n",
    "from flask_wtf import Form\n",
    "from wtforms import TextField, IntegerField, TextAreaField, SubmitField, RadioField,\n",
    "   SelectField\n",
    "\n",
    "from wtforms import validators, ValidationError\n",
    "\n",
    "class ContactForm(Form):\n",
    "   name = TextField(\"Name Of Student\",[validators.Required(\"Please enter \n",
    "      your name.\")])\n",
    "   Gender = RadioField('Gender', choices = [('M','Male'),('F','Female')])\n",
    "   Address = TextAreaField(\"Address\")\n",
    "   \n",
    "   email = TextField(\"Email\",[validators.Required(\"Please enter your email address.\"),\n",
    "      validators.Email(\"Please enter your email address.\")])\n",
    "   \n",
    "   Age = IntegerField(\"age\")\n",
    "   language = SelectField('Languages', choices = [('cpp', 'C++'), \n",
    "      ('py', 'Python')])\n",
    "   submit = SubmitField(\"Send\")\n",
    "```"
   ]
  },
  {
   "cell_type": "markdown",
   "metadata": {
    "slideshow": {
     "slide_type": "subslide"
    }
   },
   "source": [
    "* Validators are applied to the Name and Email fields.\n",
    "\n",
    "Given below is the Flask application script (`formexample.py`)\n",
    "\n",
    "```python\n",
    "from flask import Flask, render_template, request, flash\n",
    "from forms import ContactForm\n",
    "app = Flask(__name__)\n",
    "app.secret_key = 'development key'\n",
    "\n",
    "@app.route('/contact', methods = ['GET', 'POST'])\n",
    "def contact():\n",
    "   form = ContactForm()\n",
    "   \n",
    "   if request.method == 'POST':\n",
    "      if form.validate() == False:\n",
    "         flash('All fields are required.')\n",
    "         return render_template('contact.html', form = form)\n",
    "      else:\n",
    "         return render_template('success.html')\n",
    "      elif request.method == 'GET':\n",
    "         return render_template('contact.html', form = form)\n",
    "\n",
    "if __name__ == '__main__':\n",
    "   app.run(debug = True)\n",
    "```\n"
   ]
  },
  {
   "cell_type": "markdown",
   "metadata": {
    "slideshow": {
     "slide_type": "subslide"
    }
   },
   "source": [
    "\n",
    "* The Script of the template (`contact.html`)\n",
    "\n",
    "```html\n",
    "<!doctype html>\n",
    "<html>\n",
    "   <body>\n",
    "      <h2 style = \"text-align: center;\">Contact Form</h2>\n",
    "\t\t\n",
    "      {% for message in form.name.errors %}\n",
    "         <div>{{ message }}</div>\n",
    "      {% endfor %}\n",
    "      \n",
    "      {% for message in form.email.errors %}\n",
    "         <div>{{ message }}</div>\n",
    "      {% endfor %}\n",
    "      \n",
    "      <form action = \"http://localhost:5000/contact\" method = post>\n",
    "         <fieldset>\n",
    "            <legend>Contact Form</legend>\n",
    "            {{ form.hidden_tag() }}\n",
    "            \n",
    "            <div style = font-size:20px; font-weight:bold; margin-left:150px;>\n",
    "               {{ form.name.label }}<br>\n",
    "               {{ form.name }}\n",
    "               <br>\n",
    "               \n",
    "               {{ form.Gender.label }} {{ form.Gender }}\n",
    "               {{ form.Address.label }}<br>\n",
    "               {{ form.Address }}\n",
    "               <br>\n",
    "               \n",
    "               {{ form.email.label }}<br>\n",
    "               {{ form.email }}\n",
    "               <br>\n",
    "               \n",
    "               {{ form.Age.label }}<br>\n",
    "               {{ form.Age }}\n",
    "               <br>\n",
    "               \n",
    "               {{ form.language.label }}<br>\n",
    "               {{ form.language }}\n",
    "               <br>\n",
    "               {{ form.submit }}\n",
    "            </div>\n",
    "            \n",
    "         </fieldset>\n",
    "      </form>\n",
    "   </body>\n",
    "</html>\n",
    "```"
   ]
  },
  {
   "cell_type": "markdown",
   "metadata": {
    "slideshow": {
     "slide_type": "subslide"
    }
   },
   "source": [
    "* Run `formexample.py` in Python shell and visit URL `http://localhost:5000/contact`. \n"
   ]
  },
  {
   "cell_type": "markdown",
   "metadata": {
    "slideshow": {
     "slide_type": "slide"
    }
   },
   "source": [
    "### SQLIite\n",
    "----\n",
    "Python has an in-built support for SQlite.\n",
    "SQlite3 module is shipped with Python distribution. \n",
    "\n",
    "* Create an SQLite database `database.db` and create a students’ table in it.\n",
    "\n",
    "```python\n",
    "import sqlite3\n",
    "\n",
    "conn = sqlite3.connect('database.db')\n",
    "print \"Opened database successfully\";\n",
    "\n",
    "conn.execute('CREATE TABLE students (name TEXT, addr TEXT, city TEXT, pin TEXT)')\n",
    "print \"Table created successfully\";\n",
    "conn.close()\n",
    "````\n"
   ]
  },
  {
   "cell_type": "markdown",
   "metadata": {
    "slideshow": {
     "slide_type": "subslide"
    }
   },
   "source": [
    "\n",
    "* Our Flask application has three View functions.\n",
    "\n",
    "First `new_student()` function is bound to the URL rule (`/addnew`).\n",
    "It renders an HTML file containing student information form.\n",
    "\n",
    "```python\n",
    "@app.route('/enternew')\n",
    "def new_student():\n",
    "   return render_template('student.html')\n",
    "```\n"
   ]
  },
  {
   "cell_type": "markdown",
   "metadata": {
    "slideshow": {
     "slide_type": "subslide"
    }
   },
   "source": [
    "The HTML script for ‘student.html’ is as follows −\n",
    "```html\n",
    "<html>\n",
    "   <body>\n",
    "      <form action = \"{{ url_for('addrec') }}\" method = \"POST\">\n",
    "         <h3>Student Information</h3>\n",
    "         Name<br>\n",
    "         <input type = \"text\" name = \"nm\" /></br>\n",
    "         \n",
    "         Address<br>\n",
    "         <textarea name = \"add\" ></textarea><br>\n",
    "         \n",
    "         City<br>\n",
    "         <input type = \"text\" name = \"city\" /><br>\n",
    "         \n",
    "         PINCODE<br>\n",
    "         <input type = \"text\" name = \"pin\" /><br>\n",
    "         <input type = \"submit\" value = \"submit\" /><br>\n",
    "      </form>\n",
    "   </body>\n",
    "</html>\n",
    "```"
   ]
  },
  {
   "cell_type": "markdown",
   "metadata": {
    "slideshow": {
     "slide_type": "subslide"
    }
   },
   "source": [
    "* Form data is posted to the `/addrec` URL which binds the `addrec()` function.\n",
    "    * This `addrec()` function retrieves the form’s data by POST method and inserts in students table. \n",
    "    * Message corresponding to success or error in insert operation is rendered to `result.html`.\n",
    "\n",
    "```python\n",
    "@app.route('/addrec',methods = ['POST', 'GET'])\n",
    "def addrec():\n",
    "   if request.method == 'POST':\n",
    "      try:\n",
    "         nm = request.form['nm']\n",
    "         addr = request.form['add']\n",
    "         city = request.form['city']\n",
    "         pin = request.form['pin']\n",
    "         \n",
    "         with sql.connect(\"database.db\") as con:\n",
    "            cur = con.cursor()\n",
    "            cur.execute(\"INSERT INTO students (name,addr,city,pin) \n",
    "               VALUES (?,?,?,?)\",(nm,addr,city,pin) )\n",
    "            \n",
    "            con.commit()\n",
    "            msg = \"Record successfully added\"\n",
    "      except:\n",
    "         con.rollback()\n",
    "         msg = \"error in insert operation\"\n",
    "      \n",
    "      finally:\n",
    "         return render_template(\"result.html\",msg = msg)\n",
    "         con.close()\n",
    "```\n"
   ]
  },
  {
   "cell_type": "markdown",
   "metadata": {
    "slideshow": {
     "slide_type": "subslide"
    }
   },
   "source": [
    "\n",
    "The HTML script of `result.html` contains an escaping statement `{{msg}}` that displays the result of Insert operation.\n",
    "\n",
    "```html\n",
    "<!doctype html>\n",
    "<html>\n",
    "   <body>\n",
    "      result of addition : {{ msg }}\n",
    "      <h2><a href = \"\\\">go back to home page</a></h2>\n",
    "   </body>\n",
    "</html>\n",
    "```"
   ]
  },
  {
   "cell_type": "markdown",
   "metadata": {
    "slideshow": {
     "slide_type": "subslide"
    }
   },
   "source": [
    "The application contains another `list()` function represented by `/list` URL. \n",
    "\n",
    "It populates ‘rows’ as a MultiDict object containing all records in the students table. This object is passed to the `list.html` template.\n",
    "\n",
    "```python\n",
    "@app.route('/list')\n",
    "def list():\n",
    "   con = sql.connect(\"database.db\")\n",
    "   con.row_factory = sql.Row\n",
    "   \n",
    "   cur = con.cursor()\n",
    "   cur.execute(\"select * from students\")\n",
    "   \n",
    "   rows = cur.fetchall(); \n",
    "   return render_template(\"list.html\",rows = rows)\n",
    "```"
   ]
  },
  {
   "cell_type": "markdown",
   "metadata": {
    "slideshow": {
     "slide_type": "subslide"
    }
   },
   "source": [
    "* `list.html` is a template, which iterates over the row set and renders the data in an HTML table.\n",
    "```html\n",
    "<!doctype html>\n",
    "<html>\n",
    "   <body>\n",
    "      <table border = 1>\n",
    "         <thead>\n",
    "            <td>Name</td>\n",
    "            <td>Address>/td<\n",
    "            <td>city</td>\n",
    "            <td>Pincode</td>\n",
    "         </thead>\n",
    "         \n",
    "         {% for row in rows %}\n",
    "            <tr>\n",
    "               <td>{{row[\"name\"]}}</td>\n",
    "               <td>{{row[\"addr\"]}}</td>\n",
    "               <td> {{ row[\"city\"]}}</td>\n",
    "               <td>{{row['pin']}}</td>\t\n",
    "            </tr>\n",
    "         {% endfor %}\n",
    "      </table>\n",
    "      \n",
    "      <a href = \"/\">Go back to home page</a>\n",
    "   </body>\n",
    "</html>\n",
    "```\n"
   ]
  },
  {
   "cell_type": "markdown",
   "metadata": {
    "slideshow": {
     "slide_type": "subslide"
    }
   },
   "source": [
    "* Finally, the ‘/’ URL rule renders a ‘home.html’ which acts as the entry point of the application.\n",
    "\n",
    "```python\n",
    "@app.route('/')\n",
    "def home():\n",
    "   return render_template('home.html')\n",
    "```"
   ]
  },
  {
   "cell_type": "markdown",
   "metadata": {
    "slideshow": {
     "slide_type": "subslide"
    }
   },
   "source": [
    "```python\n",
    "from flask import Flask, render_template, request\n",
    "import sqlite3 as sql\n",
    "app = Flask(__name__)\n",
    "\n",
    "@app.route('/')\n",
    "def home():\n",
    "   return render_template('home.html')\n",
    "\n",
    "@app.route('/enternew')\n",
    "def new_student():\n",
    "   return render_template('student.html')\n",
    "\n",
    "@app.route('/addrec',methods = ['POST', 'GET'])\n",
    "def addrec():\n",
    "   if request.method == 'POST':\n",
    "      try:\n",
    "         nm = request.form['nm']\n",
    "         addr = request.form['add']\n",
    "         city = request.form['city']\n",
    "         pin = request.form['pin']\n",
    "         \n",
    "         with sql.connect(\"database.db\") as con:\n",
    "            cur = con.cursor()\n",
    "            \n",
    "            cur.execute(\"INSERT INTO students (name,addr,city,pin) \n",
    "               VALUES (?,?,?,?)\",(nm,addr,city,pin) )\n",
    "            \n",
    "            con.commit()\n",
    "            msg = \"Record successfully added\"\n",
    "      except:\n",
    "         con.rollback()\n",
    "         msg = \"error in insert operation\"\n",
    "      \n",
    "      finally:\n",
    "         return render_template(\"result.html\",msg = msg)\n",
    "         con.close()\n",
    "\n",
    "@app.route('/list')\n",
    "def list():\n",
    "   con = sql.connect(\"database.db\")\n",
    "   con.row_factory = sql.Row\n",
    "   \n",
    "   cur = con.cursor()\n",
    "   cur.execute(\"select * from students\")\n",
    "   \n",
    "   rows = cur.fetchall();\n",
    "   return render_template(\"list.html\",rows = rows)\n",
    "\n",
    "if __name__ == '__main__':\n",
    "   app.run(debug = True)\n",
    "```"
   ]
  },
  {
   "cell_type": "markdown",
   "metadata": {
    "slideshow": {
     "slide_type": "slide"
    }
   },
   "source": [
    "### SQLAlchemy\n",
    "-----\n",
    "* Using raw SQL in Flask web applications to perform CRUD operations on database can be tedious. \n",
    "* Instead, `SQLAlchemy`, a Python toolkit is a powerful OR Mapper that gives application developers the full power and flexibility of SQL. \n",
    "* `Flask-SQLAlchemy` is the Flask extension that adds support for SQLAlchemy to your Flask application."
   ]
  },
  {
   "cell_type": "markdown",
   "metadata": {},
   "source": [
    "#### "
   ]
  },
  {
   "cell_type": "markdown",
   "metadata": {
    "slideshow": {
     "slide_type": "subslide"
    }
   },
   "source": [
    "## What is ORM (Object Relation Mapping)?\n",
    "---\n",
    "\n",
    "* Most programming language platforms are object oriented. Data in RDBMS servers on the other hand is stored as tables. \n",
    "\n",
    "* **Object relation mapping** is a technique of mapping object parameters to the underlying RDBMS table structure. \n",
    "\n",
    "* An ORM API provides methods to perform CRUD operations without having to write raw SQL statements."
   ]
  },
  {
   "cell_type": "markdown",
   "metadata": {
    "slideshow": {
     "slide_type": "subslide"
    }
   },
   "source": [
    "### Steps\n",
    "----\n",
    "* **Step 1** − Install Flask-SQLAlchemy extension.\n",
    "\n",
    "`pipenv install flask-sqlalchemy`\n",
    "\n",
    "* **Step 2** − You need to import SQLAlchemy class from this module.\n",
    "\n",
    "`from flask_sqlalchemy import SQLAlchemy`\n",
    "\n",
    "* **Step 3** − Now create a Flask application object and set URI for the database to be used.\n",
    "```python\n",
    "app = Flask(__name__)\n",
    "app.config['SQLALCHEMY_DATABASE_URI'] = 'sqlite:///students.sqlite3'\n",
    "```"
   ]
  },
  {
   "cell_type": "markdown",
   "metadata": {
    "slideshow": {
     "slide_type": "subslide"
    }
   },
   "source": [
    "* **Step 4** − Then create an object of SQLAlchemy class with application object as the parameter. \n",
    "    * This object contains helper functions for ORM operations. \n",
    "    * It also provides a parent Model class using which user defined models are declared. In the snippet below, a students model is created.\n",
    "\n",
    "```python\n",
    "db = SQLAlchemy(app)\n",
    "class students(db.Model):\n",
    "   id = db.Column('student_id', db.Integer, primary_key = True)\n",
    "   name = db.Column(db.String(100))\n",
    "   city = db.Column(db.String(50))  \n",
    "   addr = db.Column(db.String(200))\n",
    "   pin = db.Column(db.String(10))\n",
    "\n",
    "def __init__(self, name, city, addr,pin):\n",
    "   self.name = name\n",
    "   self.city = city\n",
    "   self.addr = addr\n",
    "   self.pin = pin\n",
    "```"
   ]
  },
  {
   "cell_type": "markdown",
   "metadata": {
    "slideshow": {
     "slide_type": "subslide"
    }
   },
   "source": [
    "* **Step 5** − To create / use database mentioned in URI, run the create_all() method.\n",
    "\n",
    "`db.create_all()`\n"
   ]
  },
  {
   "cell_type": "markdown",
   "metadata": {
    "slideshow": {
     "slide_type": "subslide"
    }
   },
   "source": [
    "* The Session object of SQLAlchemy manages all persistence operations of ORM object.\n",
    "\n",
    "The following session methods perform CRUD operations −\n",
    "\n",
    "*   `db.session.add(model object)` − inserts a record into mapped table\n",
    "\n",
    "*   `db.session.delete(model object)` − deletes record from table\n",
    "\n",
    "*   `model.query.all()` − retrieves all records from table (corresponding to SELECT query).\n"
   ]
  },
  {
   "cell_type": "markdown",
   "metadata": {
    "slideshow": {
     "slide_type": "subslide"
    }
   },
   "source": [
    "* You can apply a filter to the retrieved record set by using the filter attribute.\n",
    "    * For instance, in order to retrieve records with city = ’Staten Island’ in students table, use following statement −\n",
    "\n",
    "`Students.query.filter_by(city = ’Staten Island’).all()`"
   ]
  },
  {
   "cell_type": "markdown",
   "metadata": {
    "slideshow": {
     "slide_type": "subslide"
    }
   },
   "source": [
    "* The entry point of the application is `show_all()` function bound to `/` URL.\n",
    "* The Record set of students table is sent as parameter to the HTML template.\n",
    "* The Server side code in the template renders the records in HTML table form.\n",
    "\n",
    "```python\n",
    "@app.route('/')\n",
    "def show_all():\n",
    "   return render_template('show_all.html', students = students.query.all() )\n",
    "```"
   ]
  },
  {
   "cell_type": "markdown",
   "metadata": {
    "slideshow": {
     "slide_type": "subslide"
    }
   },
   "source": [
    "* `show_all.html`\n",
    "\n",
    "```html\n",
    "<!DOCTYPE html>\n",
    "<html lang = \"en\">\n",
    "   <head></head>\n",
    "   <body>\n",
    "      <h3>\n",
    "         <a href = \"{{ url_for('show_all') }}\">Comments - Flask \n",
    "            SQLAlchemy example</a>\n",
    "      </h3>\n",
    "      \n",
    "      <hr/>\n",
    "      {%- for message in get_flashed_messages() %}\n",
    "         {{ message }}\n",
    "      {%- endfor %}\n",
    "\t\t\n",
    "      <h3>Students (<a href = \"{{ url_for('new') }}\">Add Student\n",
    "         </a>)</h3>\n",
    "      \n",
    "      <table>\n",
    "         <thead>\n",
    "            <tr>\n",
    "               <th>Name</th>\n",
    "               <th>City</th>\n",
    "               <th>Address</th>\n",
    "               <th>Pin</th>\n",
    "            </tr>\n",
    "         </thead>\n",
    "\n",
    "         <tbody>\n",
    "            {% for student in students %}\n",
    "               <tr>\n",
    "                  <td>{{ student.name }}</td>\n",
    "                  <td>{{ student.city }}</td>\n",
    "                  <td>{{ student.addr }}</td>\n",
    "                  <td>{{ student.pin }}</td>\n",
    "               </tr>\n",
    "            {% endfor %}\n",
    "         </tbody>\n",
    "      </table>\n",
    "   </body>\n",
    "</html>\n",
    "\n",
    "```"
   ]
  },
  {
   "cell_type": "markdown",
   "metadata": {},
   "source": [
    "* The above page contains a hyperlink to `/new` URL mapping `new()` function.\n",
    "    * When clicked, it opens a Student Information form. The data is posted to the same URL in POST method.\n",
    "\n",
    "* `new.html`\n",
    "\n",
    "```html\n",
    "<!DOCTYPE html>\n",
    "<html>\n",
    "   <body>\n",
    "      <h3>Students - Flask SQLAlchemy example</h3>\n",
    "      <hr/>\n",
    "      \n",
    "      {%- for category, message in get_flashed_messages(with_categories = true) %}\n",
    "         <div class = \"alert alert-danger\">\n",
    "            {{ message }}\n",
    "         </div>\n",
    "      {%- endfor %}\n",
    "      \n",
    "      <form action = \"{{ request.path }}\" method = \"post\">\n",
    "         <label for = \"name\">Name</label><br>\n",
    "         <input type = \"text\" name = \"name\" placeholder = \"Name\" /><br>\n",
    "         <label for = \"email\">City</label><br>\n",
    "         <input type = \"text\" name = \"city\" placeholder = \"city\" /><br>\n",
    "         <label for = \"addr\">addr</label><br>\n",
    "         <textarea name = \"addr\" placeholder = \"addr\"></textarea><br>\n",
    "         <label for = \"PIN\">City</label><br>\n",
    "         <input type = \"text\" name = \"pin\" placeholder = \"pin\" /><br>\n",
    "         <input type = \"submit\" value = \"Submit\" />\n",
    "      </form>\n",
    "   </body>\n",
    "</html>\n",
    "```"
   ]
  },
  {
   "cell_type": "markdown",
   "metadata": {},
   "source": [
    "\n",
    "When the http method is detected as POST, the form data is added in the students table and the application returns to homepage showing the added data.\n",
    "\n",
    "@app.route('/new', methods = ['GET', 'POST'])\n",
    "def new():\n",
    "   if request.method == 'POST':\n",
    "      if not request.form['name'] or not request.form['city'] or not request.form['addr']:\n",
    "         flash('Please enter all the fields', 'error')\n",
    "      else:\n",
    "         student = students(request.form['name'], request.form['city'],\n",
    "            request.form['addr'], request.form['pin'])\n",
    "         \n",
    "         db.session.add(student)\n",
    "         db.session.commit()\n",
    "         \n",
    "         flash('Record was successfully added')\n",
    "         return redirect(url_for('show_all'))\n",
    "   return render_template('new.html')\n"
   ]
  },
  {
   "cell_type": "markdown",
   "metadata": {
    "slideshow": {
     "slide_type": "slide"
    }
   },
   "source": [
    "\n",
    "* `app.py`\n",
    "\n",
    "```python\n",
    "from flask import Flask, request, flash, url_for, redirect, render_template\n",
    "from flask_sqlalchemy import SQLAlchemy\n",
    "\n",
    "app = Flask(__name__)\n",
    "app.config['SQLALCHEMY_DATABASE_URI'] = 'sqlite:///students.sqlite3'\n",
    "app.config['SECRET_KEY'] = \"random string\"\n",
    "\n",
    "db = SQLAlchemy(app)\n",
    "\n",
    "class students(db.Model):\n",
    "   id = db.Column('student_id', db.Integer, primary_key = True)\n",
    "   name = db.Column(db.String(100))\n",
    "   city = db.Column(db.String(50))\n",
    "   addr = db.Column(db.String(200)) \n",
    "   pin = db.Column(db.String(10))\n",
    "\n",
    "def __init__(self, name, city, addr,pin):\n",
    "   self.name = name\n",
    "   self.city = city\n",
    "   self.addr = addr\n",
    "   self.pin = pin\n",
    "```"
   ]
  },
  {
   "cell_type": "markdown",
   "metadata": {
    "slideshow": {
     "slide_type": "subslide"
    }
   },
   "source": [
    "```python\n",
    "@app.route('/')\n",
    "def show_all():\n",
    "   return render_template('show_all.html', students = students.query.all() )\n",
    "\n",
    "@app.route('/new', methods = ['GET', 'POST'])\n",
    "def new():\n",
    "   if request.method == 'POST':\n",
    "      if not request.form['name'] or not request.form['city'] or not request.form['addr']:\n",
    "         flash('Please enter all the fields', 'error')\n",
    "      else:\n",
    "         student = students(request.form['name'], request.form['city'],\n",
    "            request.form['addr'], request.form['pin'])\n",
    "         \n",
    "         db.session.add(student)\n",
    "         db.session.commit()\n",
    "         flash('Record was successfully added')\n",
    "         return redirect(url_for('show_all'))\n",
    "   return render_template('new.html')\n",
    "\n",
    "if __name__ == '__main__':\n",
    "   db.create_all()\n",
    "   app.run(debug = True)\n",
    "```"
   ]
  },
  {
   "cell_type": "markdown",
   "metadata": {
    "slideshow": {
     "slide_type": "subslide"
    }
   },
   "source": [
    "### Sijax\n",
    "----\n",
    "* Sijax stands for ‘Simple Ajax’ and it is a Python/jQuery library designed to help you easily bring Ajax to your application. \n",
    "* It uses `jQuery.ajax` to make AJAX requests.\n",
    "\n",
    "* `pipenv install flask-sijax`"
   ]
  },
  {
   "cell_type": "markdown",
   "metadata": {
    "slideshow": {
     "slide_type": "subslide"
    }
   },
   "source": [
    "#### Configuration\n",
    "\n",
    " *  `SIJAX_STATIC_PATH` − the static path where you want the Sijax javascript files to be mirrored. The default location is static/js/sijax. In this folder, `sijax.js` and `json2.js` files are kept.\n",
    "\n",
    " * `SIJAX_JSON_URI` − the URI to load the `json2.js` static file from\n",
    "\n",
    "* Sijax uses JSON to pass the data between the browser and the server. \n",
    "    * This means that the browsers need either to support JSON natively or get JSON support from the `json2.js` file.\n",
    "\n",
    "* Functions registered that way cannot provide Sijax functionality, because they cannot be accessed using a POST method by default (and Sijax uses POST requests)."
   ]
  },
  {
   "cell_type": "markdown",
   "metadata": {
    "slideshow": {
     "slide_type": "subslide"
    }
   },
   "source": [
    "* To make a View function capable of handling Sijax requests, make it accessible via `POST` using `@app.route('/url', methods = ['GET', 'POST'])` or use the `@flask_sijax.route` helper decorator like:\n",
    "\n",
    "```python\n",
    "\n",
    "@flask_sijax.route(app, '/hello')\n",
    "```"
   ]
  },
  {
   "cell_type": "markdown",
   "metadata": {
    "slideshow": {
     "slide_type": "subslide"
    }
   },
   "source": [
    "* Every Sijax handler function (like this one) receives at least one parameter automatically, much like Python passes ‘self’ to the object methods. \n",
    "* The ‘obj_response’ parameter is the function's way of talking back to the browser.\n",
    "\n",
    "``` python\n",
    "def say_hi(obj_response):\n",
    "   obj_response.alert('Hi there!')\n",
    "```\n",
    "When Sijax request is detected, Sijax handles it like this −\n",
    "```javascript\n",
    "g.sijax.register_callback('say_hi', say_hi)\n",
    "   return g.sijax.process_request()\n",
    "```"
   ]
  },
  {
   "cell_type": "markdown",
   "metadata": {
    "slideshow": {
     "slide_type": "subslide"
    }
   },
   "source": [
    "### Sijax Application\n",
    "\n",
    "* A minimal Sijax application code looks as follows −\n",
    "\n",
    "```python\n",
    "import os\n",
    "from flask import Flask, g\n",
    "from flask_sijax import sijax\n",
    "\n",
    "path = os.path.join('.', os.path.dirname(__file__), 'static/js/sijax/')\n",
    "app = Flask(__name__)\n",
    "\n",
    "app.config['SIJAX_STATIC_PATH'] = path\n",
    "app.config['SIJAX_JSON_URI'] = '/static/js/sijax/json2.js'\n",
    "flask_sijax.Sijax(app)\n",
    "\n",
    "``` \n"
   ]
  },
  {
   "cell_type": "markdown",
   "metadata": {
    "slideshow": {
     "slide_type": "subslide"
    }
   },
   "source": [
    "```python\n",
    "\n",
    "@app.route('/')\n",
    "def index():\n",
    "   return 'Index'\n",
    "\t\n",
    "@flask_sijax.route(app, '/hello')\n",
    "def hello():\n",
    "   def say_hi(obj_response):\n",
    "      obj_response.alert('Hi there!')\n",
    "   if g.sijax.is_sijax_request:\n",
    "      # Sijax request detected - let Sijax handle it\n",
    "      g.sijax.register_callback('say_hi', say_hi)\n",
    "      return g.sijax.process_request()\n",
    "      return _render_template('sijaxexample.html')\n",
    "\n",
    "if __name__ == '__main__':\n",
    "   app.run(debug = True)\n",
    "```"
   ]
  },
  {
   "cell_type": "markdown",
   "metadata": {
    "slideshow": {
     "slide_type": "subslide"
    }
   },
   "source": [
    "* When a Sijax requests (a special `jQuery.ajax()` request) to the server, this request is detected on the server by `g.sijax.is_sijax_request()`, in which case you let Sijax handle the request.\n",
    "\n",
    "* All the functions registered using `g.sijax.register_callback()` are exposed for calling from the browser.\n",
    "\n",
    "* Calling `g.sijax.process_request()` tells Sijax to execute the appropriate (previously registered) function and return the response to the browser."
   ]
  }
 ],
 "metadata": {
  "celltoolbar": "Slideshow",
  "kernelspec": {
   "display_name": "Python 3",
   "language": "python",
   "name": "python3"
  },
  "language_info": {
   "codemirror_mode": {
    "name": "ipython",
    "version": 3
   },
   "file_extension": ".py",
   "mimetype": "text/x-python",
   "name": "python",
   "nbconvert_exporter": "python",
   "pygments_lexer": "ipython3",
   "version": "3.7.4"
  }
 },
 "nbformat": 4,
 "nbformat_minor": 2
}
